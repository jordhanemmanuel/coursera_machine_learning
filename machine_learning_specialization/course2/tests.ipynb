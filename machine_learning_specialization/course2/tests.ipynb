{
 "cells": [
  {
   "cell_type": "code",
   "execution_count": 14,
   "metadata": {},
   "outputs": [
    {
     "name": "stdout",
     "output_type": "stream",
     "text": [
      "(1, 2)\n",
      "The shape of a1 is: (1, 3). The data is: [[0.0000000e+00 1.0000000e+00 1.4291899e-25]].\n",
      "The shape of a1 is: (1, 1). The data is: [[0.41513294]].\n",
      "tf.Tensor([[0.0000000e+00 1.0000000e+00 1.4291899e-25]], shape=(1, 3), dtype=float32)\n",
      "[[0.0000000e+00 1.0000000e+00 1.4291899e-25]]\n"
     ]
    }
   ],
   "source": [
    "import numpy as np\n",
    "from tensorflow.keras.layers import Dense\n",
    "# Very simple example to add a layer\n",
    "x = np.array([[200.0, 17.0]]) # input a (1,2) (1 row, 2 features) with the data: 200 degrees and 17 minutes\n",
    "print(x.shape)\n",
    "layer_1 = Dense(units=3, activation='sigmoid') # Layer of 'Dense' type, with 3 Neurons, who is activated by Sigmoid activation\n",
    "# layer_1 in fact, turn into a function...\n",
    "a1 = layer_1(x) #... so it can be called and 'activated' using the input parameter to activate, output activation, in this case, input -> layer_1(input) -> a_1\n",
    "print(f'The shape of a1 is: {a1.shape}. The data is: {a1}.')\n",
    "# a1 will output 3 numbers, with the shape (1,3) because layer_1 was initialized with 3 neurons, but only one row of data\n",
    "\n",
    "# Creating the output layer/last layer\n",
    "layer_2 = Dense(units = 1, activation='sigmoid') # Layer of 'Dense' type, with only a singular neuron, who is activated by Sigmoid activation\n",
    "a2 = layer_2(a1) # the input will be the a1 from previous layer, a1 have a shape of (3,1), who outputs a (1, )\n",
    "print(f'The shape of a1 is: {a2.shape}. The data is: {a2}.')\n",
    "# This is a simplified example and is not a practical example\n",
    "\n",
    "# Tensorflow library converts to a matrix of tensor type, to convert back to numpy array, use tensor.numpy()\n",
    "print(a1)\n",
    "a1np = a1.numpy()\n",
    "print(a1np)"
   ]
  },
  {
   "attachments": {},
   "cell_type": "markdown",
   "metadata": {},
   "source": [
    "## Ways to create a sequential (neural network)\n",
    "\n",
    "### 1 - Declare layers on variables\n",
    "```python\n",
    "layer_1 = Dense(units=25, activation='sigmoid')\n",
    "layer_2 = Dense(units=15, activation='sigmoid')\n",
    "layer_3 = Dense(units=1, activation='sigmoid')\n",
    "model = Sequential([layer_1, layer_2, layer_3])\n",
    "```\n",
    "\n",
    "### 2 - Instantiate layers inside Sequential\n",
    "```python\n",
    "layer_1 = Dense(units=25, activation='sigmoid')\n",
    "layer_2 = Dense(units=15, activation='sigmoid')\n",
    "layer_3 = Dense(units=1, activation='sigmoid')\n",
    "model = Sequential([\n",
    "    Dense(units=3, activation='sigmoid'),\n",
    "    Dense(units=1, activation='sigmoid')\n",
    "])\n",
    "```"
   ]
  },
  {
   "cell_type": "code",
   "execution_count": 30,
   "metadata": {},
   "outputs": [
    {
     "name": "stdout",
     "output_type": "stream",
     "text": [
      "=====DESCRIPTION OF THE NETWORK=====\n",
      "Model: \"sequential_12\"\n",
      "_________________________________________________________________\n",
      "Layer (type)                 Output Shape              Param #   \n",
      "=================================================================\n",
      "l1 (Dense)                   (None, 3)                 9         \n",
      "_________________________________________________________________\n",
      "l2 (Dense)                   (None, 1)                 4         \n",
      "=================================================================\n",
      "Total params: 13\n",
      "Trainable params: 13\n",
      "Non-trainable params: 0\n",
      "_________________________________________________________________\n",
      "Personal Note: The parameter number is calculated by = number of features * nodes + outputs\n"
     ]
    }
   ],
   "source": [
    "# Test using the same example but with Keras documentation\n",
    "# https://www.tensorflow.org/api_docs/python/tf/keras/layers/Dense\n",
    "import numpy as np\n",
    "import tensorflow as tf\n",
    "from tensorflow import keras\n",
    "from tensorflow.keras import layers, Input\n",
    "from tensorflow.keras.models import Sequential\n",
    "\n",
    "x = np.array([\n",
    "    [200.0, 17.0],\n",
    "    [120.0, 5.0],\n",
    "    [425.0, 20.0],\n",
    "    [202.0, 18.0]\n",
    "]) # input\n",
    "y = np.array([1, 0, 0, 1]) # target\n",
    "model = Sequential()\n",
    "model.add(layers.InputLayer(input_shape=(2,))) # can be omitted and will be autoset when fit() is called\n",
    "model.add(Dense(units=3, activation='sigmoid', name='l1'))\n",
    "model.add(Dense(units=1, activation='sigmoid', name='l2'))\n",
    "print(\"=====DESCRIPTION OF THE NETWORK=====\")\n",
    "model.summary()\n",
    "print(\"Personal Note: The parameter number is calculated by = number of features * nodes + outputs\")\n"
   ]
  },
  {
   "cell_type": "code",
   "execution_count": 31,
   "metadata": {},
   "outputs": [
    {
     "name": "stdout",
     "output_type": "stream",
     "text": [
      "W1(2, 3):\n",
      " [[ 0.66931653  0.6387379  -0.6378816 ]\n",
      " [-0.5551859  -0.281065   -0.89989054]] \n",
      "b1(3,): [0. 0. 0.]\n",
      "W2(3, 1):\n",
      " [[-0.8145307 ]\n",
      " [-0.8340565 ]\n",
      " [-0.50524336]] \n",
      "b2(1,): [0.]\n"
     ]
    }
   ],
   "source": [
    "# Taken from C2_W1 lab 02 from Course2, how to see the weights\n",
    "W1, b1 = model.get_layer(\"l1\").get_weights()\n",
    "W2, b2 = model.get_layer(\"l2\").get_weights()\n",
    "print(f\"W1{W1.shape}:\\n\", W1, f\"\\nb1{b1.shape}:\", b1)\n",
    "print(f\"W2{W2.shape}:\\n\", W2, f\"\\nb2{b2.shape}:\", b2)"
   ]
  },
  {
   "cell_type": "code",
   "execution_count": 32,
   "metadata": {},
   "outputs": [
    {
     "name": "stdout",
     "output_type": "stream",
     "text": [
      "Epoch 1/10\n",
      "1/1 [==============================] - 0s 372ms/step - loss: 1.0002\n",
      "Epoch 2/10\n",
      "1/1 [==============================] - 0s 9ms/step - loss: 0.9901\n",
      "Epoch 3/10\n",
      "1/1 [==============================] - 0s 17ms/step - loss: 0.9801\n",
      "Epoch 4/10\n",
      "1/1 [==============================] - 0s 9ms/step - loss: 0.9703\n",
      "Epoch 5/10\n",
      "1/1 [==============================] - 0s 10ms/step - loss: 0.9606\n",
      "Epoch 6/10\n",
      "1/1 [==============================] - 0s 10ms/step - loss: 0.9510\n",
      "Epoch 7/10\n",
      "1/1 [==============================] - 0s 7ms/step - loss: 0.9416\n",
      "Epoch 8/10\n",
      "1/1 [==============================] - 0s 14ms/step - loss: 0.9323\n",
      "Epoch 9/10\n",
      "1/1 [==============================] - 0s 11ms/step - loss: 0.9232\n",
      "Epoch 10/10\n",
      "1/1 [==============================] - 0s 10ms/step - loss: 0.9143\n"
     ]
    },
    {
     "data": {
      "text/plain": [
       "<tensorflow.python.keras.callbacks.History at 0x2755d4fbe20>"
      ]
     },
     "execution_count": 32,
     "metadata": {},
     "output_type": "execute_result"
    }
   ],
   "source": [
    "model.compile(\n",
    "    loss = tf.keras.losses.BinaryCrossentropy(),\n",
    "    optimizer = tf.keras.optimizers.Adam(learning_rate=0.01),\n",
    ")\n",
    "model.fit(x, y, epochs=10,)"
   ]
  },
  {
   "attachments": {},
   "cell_type": "markdown",
   "metadata": {},
   "source": [
    "Is perceptive that loss is too high, the main problems here is low sample of dataset and no normalization has been done!"
   ]
  },
  {
   "cell_type": "code",
   "execution_count": 34,
   "metadata": {},
   "outputs": [
    {
     "name": "stdout",
     "output_type": "stream",
     "text": [
      "W1:\n",
      " [[ 0.66931653  0.6387379  -0.6378816 ]\n",
      " [-0.5551859  -0.281065   -0.89989054]] \n",
      "b1: [0. 0. 0.]\n",
      "W2:\n",
      " [[-0.7149908 ]\n",
      " [-0.7345166 ]\n",
      " [-0.50524336]] \n",
      "b2: [0.09953984]\n"
     ]
    }
   ],
   "source": [
    "W1, b1 = model.get_layer(\"l1\").get_weights()\n",
    "W2, b2 = model.get_layer(\"l2\").get_weights()\n",
    "print(\"W1:\\n\", W1, \"\\nb1:\", b1)\n",
    "print(\"W2:\\n\", W2, \"\\nb2:\", b2)"
   ]
  },
  {
   "cell_type": "code",
   "execution_count": 37,
   "metadata": {},
   "outputs": [
    {
     "name": "stdout",
     "output_type": "stream",
     "text": [
      "predictions = \n",
      " [[0.20587566]\n",
      " [0.20587566]\n",
      " [0.20587566]\n",
      " [0.20587566]]\n",
      "(None, 1)\n"
     ]
    }
   ],
   "source": [
    "model.get_layer(\"l1\").set_weights([W1,b1])\n",
    "model.get_layer(\"l2\").set_weights([W2,b2])\n",
    "predictions = model.predict(x)\n",
    "print(\"predictions = \\n\", predictions)\n",
    "print(model.output_shape)"
   ]
  }
 ],
 "metadata": {
  "kernelspec": {
   "display_name": "tf_gpu",
   "language": "python",
   "name": "python3"
  },
  "language_info": {
   "codemirror_mode": {
    "name": "ipython",
    "version": 3
   },
   "file_extension": ".py",
   "mimetype": "text/x-python",
   "name": "python",
   "nbconvert_exporter": "python",
   "pygments_lexer": "ipython3",
   "version": "3.9.16"
  },
  "orig_nbformat": 4,
  "vscode": {
   "interpreter": {
    "hash": "811e1c95199d7ea9f158b36bc690c57c62241fa7fd73abb94de321e168beb1d6"
   }
  }
 },
 "nbformat": 4,
 "nbformat_minor": 2
}
