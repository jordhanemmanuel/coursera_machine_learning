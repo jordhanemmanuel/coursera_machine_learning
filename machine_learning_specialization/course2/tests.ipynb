{
 "cells": [
  {
   "cell_type": "code",
   "execution_count": 14,
   "metadata": {},
   "outputs": [
    {
     "name": "stdout",
     "output_type": "stream",
     "text": [
      "(1, 2)\n",
      "The shape of a1 is: (1, 3). The data is: [[0.0000000e+00 1.0000000e+00 1.4291899e-25]].\n",
      "The shape of a1 is: (1, 1). The data is: [[0.41513294]].\n",
      "tf.Tensor([[0.0000000e+00 1.0000000e+00 1.4291899e-25]], shape=(1, 3), dtype=float32)\n",
      "[[0.0000000e+00 1.0000000e+00 1.4291899e-25]]\n"
     ]
    }
   ],
   "source": [
    "import numpy as np\n",
    "from tensorflow.keras.layers import Dense\n",
    "# Very simple example to add a layer\n",
    "x = np.array([[200.0, 17.0]]) # input a (1,2) (1 row, 2 features) with the data: 200 degrees and 17 minutes\n",
    "print(x.shape)\n",
    "layer_1 = Dense(units=3, activation='sigmoid') # Layer of 'Dense' type, with 3 Neurons, who is activated by Sigmoid activation\n",
    "# layer_1 in fact, turn into a function...\n",
    "a1 = layer_1(x) #... so it can be called and 'activated' using the input parameter to activate, output activation, in this case, input -> layer_1(input) -> a_1\n",
    "print(f'The shape of a1 is: {a1.shape}. The data is: {a1}.')\n",
    "# a1 will output 3 numbers, with the shape (1,3) because layer_1 was initialized with 3 neurons, but only one row of data\n",
    "\n",
    "# Creating the output layer/last layer\n",
    "layer_2 = Dense(units = 1, activation='sigmoid') # Layer of 'Dense' type, with only a singular neuron, who is activated by Sigmoid activation\n",
    "a2 = layer_2(a1) # the input will be the a1 from previous layer, a1 have a shape of (3,1), who outputs a (1, )\n",
    "print(f'The shape of a1 is: {a2.shape}. The data is: {a2}.')\n",
    "# This is a simplified example and is not a practical example\n",
    "\n",
    "# Tensorflow library converts to a matrix of tensor type, to convert back to numpy array, use tensor.numpy()\n",
    "print(a1)\n",
    "a1np = a1.numpy()\n",
    "print(a1np)"
   ]
  },
  {
   "attachments": {},
   "cell_type": "markdown",
   "metadata": {},
   "source": [
    "## Ways to create a sequential (neural network)\n",
    "\n",
    "### 1 - Declare layers on variables\n",
    "```python\n",
    "layer_1 = Dense(units=25, activation='sigmoid')\n",
    "layer_2 = Dense(units=15, activation='sigmoid')\n",
    "layer_3 = Dense(units=1, activation='sigmoid')\n",
    "model = Sequential([layer_1, layer_2, layer_3])\n",
    "```\n",
    "\n",
    "### 2 - Instantiate layers inside Sequential\n",
    "```python\n",
    "layer_1 = Dense(units=25, activation='sigmoid')\n",
    "layer_2 = Dense(units=15, activation='sigmoid')\n",
    "layer_3 = Dense(units=1, activation='sigmoid')\n",
    "model = Sequential([\n",
    "    Dense(units=3, activation='sigmoid'),\n",
    "    Dense(units=1, activation='sigmoid')\n",
    "])\n",
    "```"
   ]
  },
  {
   "cell_type": "code",
   "execution_count": null,
   "metadata": {},
   "outputs": [],
   "source": [
    "# Test using the same example but with Keras documentation\n",
    "# https://www.tensorflow.org/api_docs/python/tf/keras/layers/Dense\n",
    "import numpy as np\n",
    "from tensorflow import keras\n",
    "from tensorflow.keras import layers, Input\n",
    "from tensorflow.keras.models import Sequential\n",
    "\n",
    "x = np.array([\n",
    "    [200.0, 17.0],\n",
    "    [120.0, 5.0],\n",
    "    [425.0, 20.0],\n",
    "    [202.0, 18.0]\n",
    "]) # input\n",
    "y = np.array([1, 0, 0, 1]) # target\n",
    "model = Sequential()\n",
    "#model.add(Input(x))\n",
    "model.add(Dense(units=3, activation='sigmoid'))\n",
    "model.add(Dense(units=1, activation='sigmoid'))\n",
    "model.fit(x, y)\n",
    "model.predict(x) # predict results based on the parameter dataset \n",
    "print(model.output_shape)\n",
    "keras.utils.plot_model(model, show_shapes=true)\n",
    "\n",
    "# [TO BE CONTINUED...]=>"
   ]
  },
  {
   "cell_type": "code",
   "execution_count": null,
   "metadata": {},
   "outputs": [],
   "source": []
  }
 ],
 "metadata": {
  "kernelspec": {
   "display_name": "tf_gpu",
   "language": "python",
   "name": "python3"
  },
  "language_info": {
   "codemirror_mode": {
    "name": "ipython",
    "version": 3
   },
   "file_extension": ".py",
   "mimetype": "text/x-python",
   "name": "python",
   "nbconvert_exporter": "python",
   "pygments_lexer": "ipython3",
   "version": "3.9.16"
  },
  "orig_nbformat": 4,
  "vscode": {
   "interpreter": {
    "hash": "811e1c95199d7ea9f158b36bc690c57c62241fa7fd73abb94de321e168beb1d6"
   }
  }
 },
 "nbformat": 4,
 "nbformat_minor": 2
}
