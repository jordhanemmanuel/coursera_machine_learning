{
 "cells": [
  {
   "attachments": {},
   "cell_type": "markdown",
   "metadata": {},
   "source": [
    "### Neuron\n",
    "Neuron or perceptron, is the single part of Neural Network who computers an output value by applying a function to the data.\n",
    "\n",
    "### Layer\n",
    "A layer is a group of neurons which takes inputs and throw outputs.\n",
    "\n",
    "### Input Layer\n",
    "The start point, with the inputs to start feeding the neurons in the layers forward. \n",
    "\n",
    "### Output Layer\n",
    "The final output with the result.\n",
    "\n",
    "### Hidden Layer\n",
    "Between Input and Output Layer.\n",
    "\n",
    "### Activation\n",
    "The output of each neuron after receiving the inputs. The output can be used as input for other neurons, except in the case of output layer where the activation is the final result."
   ]
  },
  {
   "cell_type": "code",
   "execution_count": null,
   "metadata": {},
   "outputs": [],
   "source": []
  },
  {
   "cell_type": "markdown",
   "metadata": {},
   "source": []
  }
 ],
 "metadata": {
  "kernelspec": {
   "display_name": "tf_gpu",
   "language": "python",
   "name": "python3"
  },
  "language_info": {
   "name": "python",
   "version": "3.9.16"
  },
  "orig_nbformat": 4,
  "vscode": {
   "interpreter": {
    "hash": "811e1c95199d7ea9f158b36bc690c57c62241fa7fd73abb94de321e168beb1d6"
   }
  }
 },
 "nbformat": 4,
 "nbformat_minor": 2
}
