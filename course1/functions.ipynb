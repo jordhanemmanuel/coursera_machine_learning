{
 "cells": [
  {
   "attachments": {},
   "cell_type": "markdown",
   "metadata": {},
   "source": [
    "Linear Regression:\n",
    "function w,b(x(i)) = w.x(i) + b"
   ]
  },
  {
   "cell_type": "code",
   "execution_count": null,
   "metadata": {
    "vscode": {
     "languageId": "plaintext"
    }
   },
   "outputs": [],
   "source": [
    "def linear_regression(x, w, b):\n",
    "    \"\"\"\n",
    "    Computes the prediction of a linear model f_wb(i) = w * x[i] + b\n",
    "    Args:\n",
    "      x (ndarray (m,)): Data, m examples \n",
    "      w,b (scalar)    : model parameters  \n",
    "    Returns\n",
    "      y (ndarray (m,)): target values\n",
    "    \"\"\"\n",
    "    m = x.shape[0]\n",
    "    f_wb = np.zeros(m)\n",
    "    for i in range(m):\n",
    "        f_wb[i] = w * x[i] + b\n",
    "        \n",
    "    return f_wb"
   ]
  },
  {
   "attachments": {},
   "cell_type": "markdown",
   "metadata": {},
   "source": [
    "Sigmoid Function (logistic function):\n",
    "\n",
    "The formula for a sigmoid function is as follows -\n",
    "\n",
    "g(z)= 1 / (1+e^−𝑧)\n",
    "\n",
    "In the case of logistic regression, z (the input to the sigmoid function), is the output of a linear regression model.\n",
    "\n",
    "    In the case of a single example, 𝑧\n",
    "\n",
    "is scalar.\n",
    "in the case of multiple examples, 𝑧\n",
    "may be a vector consisting of 𝑚\n",
    "\n",
    "    values, one for each example.\n",
    "    The implementation of the sigmoid function should cover both of these potential input formats. Let's implement this in Python.\n",
    "\n",
    "NumPy has a function called exp(), which offers a convenient way to calculate the exponential (e^z) of all elements in the input array (z).\n",
    "\n",
    "It also works with a single number as an input, as shown below."
   ]
  },
  {
   "cell_type": "markdown",
   "metadata": {},
   "source": []
  }
 ],
 "metadata": {
  "language_info": {
   "name": "python"
  },
  "orig_nbformat": 4
 },
 "nbformat": 4,
 "nbformat_minor": 2
}
